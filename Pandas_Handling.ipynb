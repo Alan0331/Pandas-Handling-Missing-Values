{
  "nbformat": 4,
  "nbformat_minor": 0,
  "metadata": {
    "colab": {
      "provenance": [],
      "authorship_tag": "ABX9TyMSF8RG5MlE9ei6Od69GH9X",
      "include_colab_link": true
    },
    "kernelspec": {
      "name": "python3",
      "display_name": "Python 3"
    },
    "language_info": {
      "name": "python"
    }
  },
  "cells": [
    {
      "cell_type": "markdown",
      "metadata": {
        "id": "view-in-github",
        "colab_type": "text"
      },
      "source": [
        "<a href=\"https://colab.research.google.com/github/Alan0331/Pandas-Handling-Missing-Values/blob/main/Pandas_Handling.ipynb\" target=\"_parent\"><img src=\"https://colab.research.google.com/assets/colab-badge.svg\" alt=\"Open In Colab\"/></a>"
      ]
    },
    {
      "cell_type": "markdown",
      "source": [
        "1.Write a Pandas program to detect missing values of a given DataFrame. Display True or False."
      ],
      "metadata": {
        "id": "ahnV0RcybuB3"
      }
    },
    {
      "cell_type": "code",
      "execution_count": null,
      "metadata": {
        "id": "HcRFMOAEbFnZ"
      },
      "outputs": [],
      "source": [
        "# Importing required libraries\n",
        "import pandas as pd\n",
        "\n",
        "# Creating the test DataFrame with missing values\n",
        "data = {\n",
        "    'ord_no': [70001.0, None, 70002.0, 70004.0, None, 70005.0, None, 70010.0, 70003.0, 70012.0, None, 70013.0],\n",
        "    'purch_amt': [150.50, 270.65, 65.26, 110.50, 948.50, 2400.60, 5760.00, 1983.43, 2480.40, 250.45, 75.29, 3045.60],\n",
        "    'ord_date': ['2012-10-05', '2012-09-10', None, '2012-08-17', '2012-09-10', '2012-07-27', '2012-09-10', '2012-10-10', '2012-10-10', '2012-06-27', '2012-08-17', '2012-04-25'],\n",
        "    'customer_id': [3002, 3001, 3001, 3003, 3002, 3001, 3001, 3004, 3003, 3002, 3001, 3001],\n",
        "    'salesman_id': [5002.0, 5003.0, 5001.0, None, 5002.0, 5001.0, 5001.0, None, 5003.0, 5002.0, 5003.0, None]\n",
        "}\n",
        "\n",
        "df = pd.DataFrame(data)\n",
        "\n",
        "# Display the original DataFrame\n",
        "print(\"Original DataFrame:\")\n",
        "print(df)\n",
        "\n",
        "# Detecting missing values in the DataFrame\n",
        "missing_values = df.isnull()\n",
        "\n",
        "# Displaying missing values (True for missing, False for not missing)\n",
        "print(\"\\nMissing Values in DataFrame (True indicates missing data):\")\n",
        "print(missing_values)"
      ]
    },
    {
      "cell_type": "markdown",
      "source": [
        "This code creates a DataFrame, detects missing values, and displays a boolean mask where True indicates missing data. Copy this into a Colab notebook, run it, and share the link if needed! Let me know if you need any modifications"
      ],
      "metadata": {
        "id": "kQJKU1IHca2X"
      }
    },
    {
      "cell_type": "markdown",
      "source": [
        "2.  Write a Pandas program to identify the column(s) of a given DataFrame which have at least one missing value."
      ],
      "metadata": {
        "id": "bAKFoANKchGc"
      }
    },
    {
      "cell_type": "code",
      "source": [
        "# Importing required libraries\n",
        "import pandas as pd\n",
        "\n",
        "# Creating the test DataFrame with missing values\n",
        "data = {\n",
        "    'ord_no': [70001.0, None, 70002.0, 70004.0, None, 70005.0, None, 70010.0, 70003.0, 70012.0, None, 70013.0],\n",
        "    'purch_amt': [150.50, 270.65, 65.26, 110.50, 948.50, 2400.60, 5760.00, 1983.43, 2480.40, 250.45, 75.29, 3045.60],\n",
        "    'ord_date': ['2012-10-05', '2012-09-10', None, '2012-08-17', '2012-09-10', '2012-07-27', '2012-09-10', '2012-10-10', '2012-10-10', '2012-06-27', '2012-08-17', '2012-04-25'],\n",
        "    'customer_id': [3002, 3001, 3001, 3003, 3002, 3001, 3001, 3004, 3003, 3002, 3001, 3001],\n",
        "    'salesman_id': [5002.0, 5003.0, 5001.0, None, 5002.0, 5001.0, 5001.0, None, 5003.0, 5002.0, 5003.0, None]\n",
        "}\n",
        "\n",
        "df = pd.DataFrame(data)\n",
        "\n",
        "# Display the original DataFrame\n",
        "print(\"Original DataFrame:\")\n",
        "print(df)\n",
        "\n",
        "# Detecting missing values in the DataFrame\n",
        "missing_values = df.isnull()\n",
        "\n",
        "# Displaying missing values (True for missing, False for not missing)\n",
        "print(\"\\nMissing Values in DataFrame (True indicates missing data):\")\n",
        "print(missing_values)\n",
        "\n",
        "# Identifying columns with at least one missing value\n",
        "columns_with_missing = df.columns[df.isnull().any()].tolist()\n",
        "\n",
        "# Displaying the columns that contain missing values\n",
        "print(\"\\nColumns with at least one missing value:\")\n",
        "print(columns_with_missing)\n"
      ],
      "metadata": {
        "id": "FzwACEOkcrzO"
      },
      "execution_count": null,
      "outputs": []
    },
    {
      "cell_type": "markdown",
      "source": [
        "I've updated the code to identify columns that have at least one missing value and display them."
      ],
      "metadata": {
        "id": "l9UK-wwbdLXh"
      }
    },
    {
      "cell_type": "markdown",
      "source": [
        "3. Write a Pandas program to count the number of missing values in each column of a given DataFrame."
      ],
      "metadata": {
        "id": "wTG-7Z0BdO2X"
      }
    },
    {
      "cell_type": "code",
      "source": [
        "# Importing required libraries\n",
        "import pandas as pd\n",
        "\n",
        "# Creating the test DataFrame with missing values\n",
        "data = {\n",
        "    'ord_no': [70001.0, None, 70002.0, 70004.0, None, 70005.0, None, 70010.0, 70003.0, 70012.0, None, 70013.0],\n",
        "    'purch_amt': [150.50, 270.65, 65.26, 110.50, 948.50, 2400.60, 5760.00, 1983.43, 2480.40, 250.45, 75.29, 3045.60],\n",
        "    'ord_date': ['2012-10-05', '2012-09-10', None, '2012-08-17', '2012-09-10', '2012-07-27', '2012-09-10', '2012-10-10', '2012-10-10', '2012-06-27', '2012-08-17', '2012-04-25'],\n",
        "    'customer_id': [3002, 3001, 3001, 3003, 3002, 3001, 3001, 3004, 3003, 3002, 3001, 3001],\n",
        "    'salesman_id': [5002.0, 5003.0, 5001.0, None, 5002.0, 5001.0, 5001.0, None, 5003.0, 5002.0, 5003.0, None]\n",
        "}\n",
        "\n",
        "df = pd.DataFrame(data)\n",
        "\n",
        "# Display the original DataFrame\n",
        "p"
      ],
      "metadata": {
        "id": "9DjYyRH4dXeN"
      },
      "execution_count": null,
      "outputs": []
    },
    {
      "cell_type": "markdown",
      "source": [
        "This Pandas program detects and counts missing values in a DataFrame. It first creates a dataset with missing values, then uses .isnull() to identify them, .any() to find columns with missing data, and .sum() to count missing values in each column. This helps in understanding and handling missing data effectively."
      ],
      "metadata": {
        "id": "_bnOGh8WeK2t"
      }
    },
    {
      "cell_type": "markdown",
      "source": [
        "4. Write a Pandas program to find and replace the missing values in a given DataFrame which do not have any valuable information."
      ],
      "metadata": {
        "id": "ekpx_ZfPeM1n"
      }
    },
    {
      "cell_type": "code",
      "source": [
        "# Importing required libraries\n",
        "import pandas as pd\n",
        "\n",
        "# Creating the test DataFrame with missing values and placeholders\n",
        "data = {\n",
        "    'ord_no': [70001, None, 70002, 70004, None, 70005, '--', 70010, 70003, 70012, None, 70013],\n",
        "    'purch_amt': [150.5, 270.65, 65.26, 110.5, 948.5, 2400.6, 5760, '?', 12.43, 2480.4, 250.45, 3045.6],\n",
        "    'ord_date': ['?', '2012-09-10', None, '2012-08-17', '2012-09-10', '2012-07-27', '2012-09-10', '2012-10-10', '2012-10-10', '2012-06-27', '2012-08-17', '2012-04-25'],\n",
        "    'customer_id': [3002, 3001, 3001, 3003, 3002, 3001, 3001, 3004, '--', 3002, 3001, 3001],\n",
        "    'salesman_id': [5002, 5003, '?', 5001, None, 5002, 5001, '?', 5003, 5002, 5003, '--']\n",
        "}\n",
        "\n",
        "# Creating a Pandas DataFrame\n",
        "df = pd.DataFrame(data)\n",
        "\n",
        "# Display the original DataFrame\n",
        "print(\"Original DataFrame:\")\n",
        "print(df)\n",
        "\n",
        "# Defining placeholder values that do not carry valuable information\n",
        "placeholders = ['?', '--', 'NaN', None]\n",
        "\n",
        "# Replacing placeholders with NaN for easier processing\n",
        "df.replace(placeholders, pd.NA, inplace=True)\n",
        "\n",
        "# Displaying the DataFrame after replacement\n",
        "print(\"\\nDataFrame after replacing missing values with NaN:\")\n",
        "print(df)\n",
        "\n",
        "# Handling missing values by filling them with a default value (e.g., 'Unknown' for categorical and 0 for numerical columns)\n",
        "df.fillna({'ord_no': 0, 'purch_amt': 0, 'ord_date': 'Unknown', 'customer_id': 0, 'salesman_id': 'Unknown'}, inplace=True)\n",
        "\n",
        "# Displaying the cleaned DataFrame\n",
        "print(\"\\nCleaned DataFrame after filling missing values:\")\n",
        "print(df)\n"
      ],
      "metadata": {
        "id": "73rd7ozkeSRh"
      },
      "execution_count": null,
      "outputs": []
    },
    {
      "cell_type": "markdown",
      "source": [
        "This Pandas program identifies and replaces missing values in a DataFrame. It first defines placeholders (`?`, `--`, `NaN`, etc.) and replaces them with `NaN` for consistency. Then, it fills missing values with appropriate defaults (e.g., `0` for numerical columns and `'Unknown'` for categorical data), ensuring a clean dataset for further analysis."
      ],
      "metadata": {
        "id": "Ui8v-ZC-et8q"
      }
    },
    {
      "cell_type": "markdown",
      "source": [
        "5. Write a Pandas program to drop the rows where at least one element is missing in a given DataFrame."
      ],
      "metadata": {
        "id": "Km-KzQ0oevCy"
      }
    },
    {
      "cell_type": "code",
      "source": [
        "# Importing required libraries\n",
        "import pandas as pd\n",
        "\n",
        "# Creating the test DataFrame with missing values\n",
        "data = {\n",
        "    'ord_no': [70001.0, None, 70002.0, 70004.0, None, 70005.0, None, 70010.0, 70003.0, 70012.0, None, 70013.0],\n",
        "    'purch_amt': [150.50, 270.65, 65.26, 110.50, 948.50, 2400.60, 5760.00, 1983.43, 2480.40, 250.45, 75.29, 3045.60],\n",
        "    'ord_date': ['2012-10-05', '2012-09-10', None, '2012-08-17', '2012-09-10', '2012-07-27', '2012-09-10', '2012-10-10', '2012-10-10', '2012-06-27', '2012-08-17', '2012-04-25'],\n",
        "    'customer_id': [3002, 3001, 3001, 3003, 3002, 3001, 3001, 3004, 3003, 3002, 3001, 3001],\n",
        "    'salesman_id': [5002.0, 5003.0, 5001.0, None, 5002.0, 5001.0, 5001.0, None, 5003.0, 5002.0, 5003.0, None]\n",
        "}\n",
        "\n",
        "# Creating a Pandas DataFrame\n",
        "df = pd.DataFrame(data)\n",
        "\n",
        "# Display the original DataFrame\n",
        "print(\"Original DataFrame:\")\n",
        "print(df)\n",
        "\n",
        "# Dropping rows where at least one value is missing\n",
        "cleaned_df = df.dropna()\n",
        "\n",
        "# Displaying the DataFrame after dropping missing value rows\n",
        "print(\"\\nDataFrame after dropping rows with missing values:\")\n",
        "print(cleaned_df)\n"
      ],
      "metadata": {
        "id": "D49ZkHBBezew"
      },
      "execution_count": null,
      "outputs": []
    },
    {
      "cell_type": "markdown",
      "source": [
        "This Pandas program removes rows with missing values from a DataFrame using `dropna()`. It first creates a dataset with missing values, then applies `dropna()` to filter out incomplete rows, ensuring only fully populated data remains for further analysis."
      ],
      "metadata": {
        "id": "DrZCFfAMe9O9"
      }
    },
    {
      "cell_type": "markdown",
      "source": [
        "6. Write a Pandas program to drop the columns where at least one element is missing in a given DataFrame."
      ],
      "metadata": {
        "id": "aEeJI_LSfGG2"
      }
    },
    {
      "cell_type": "code",
      "source": [
        "# Importing required libraries\n",
        "import pandas as pd\n",
        "\n",
        "# Creating the test DataFrame with missing values\n",
        "data = {\n",
        "    'ord_no': [70001.0, None, 70002.0, 70004.0, None, 70005.0, None, 70010.0, 70003.0, 70012.0, None, 70013.0],\n",
        "    'purch_amt': [150.50, 270.65, 65.26, 110.50, 948.50, 2400.60, 5760.00, 1983.43, 2480.40, 250.45, 75.29, 3045.60],\n",
        "    'ord_date': ['2012-10-05', '2012-09-10', None, '2012-08-17', '2012-09-10', '2012-07-27', '2012-09-10', '2012-10-10', '2012-10-10', '2012-06-27', '2012-08-17', '2012-04-25'],\n",
        "    'customer_id': [3002, 3001, 3001, 3003, 3002, 3001, 3001, 3004, 3003, 3002, 3001, 3001],\n",
        "    'salesman_id': [5002.0, 5003.0, 5001.0, None, 5002.0, 5001.0, 5001.0, None, 5003.0, 5002.0, 5003.0, None]\n",
        "}\n",
        "\n",
        "# Creating a Pandas DataFrame\n",
        "df = pd.DataFrame(data)\n",
        "\n",
        "# Display the original DataFrame\n",
        "print(\"Original DataFrame:\")\n",
        "print(df)\n",
        "\n",
        "# Dropping columns where at least one value is missing\n",
        "cleaned_df = df.dropna(axis=1)\n",
        "\n",
        "# Displaying the DataFrame after dropping columns with missing values\n",
        "print(\"\\nDataFrame after dropping columns with missing values:\")\n",
        "print(cleaned_df)\n"
      ],
      "metadata": {
        "id": "4niuE0VkfKIS"
      },
      "execution_count": null,
      "outputs": []
    },
    {
      "cell_type": "markdown",
      "source": [
        "This Pandas program removes columns with missing values using `dropna(axis=1)`. It ensures that only fully populated columns remain, making the dataset cleaner and more reliable for analysis."
      ],
      "metadata": {
        "id": "IYSuP4sZfTUK"
      }
    },
    {
      "cell_type": "markdown",
      "source": [
        "7. Write a Pandas program to drop the rows where all elements are missing in a given DataFrame"
      ],
      "metadata": {
        "id": "DQ23XSRGfbFY"
      }
    },
    {
      "cell_type": "code",
      "source": [
        "# Importing required libraries\n",
        "import pandas as pd\n",
        "\n",
        "# Creating the test DataFrame with missing values\n",
        "data = {\n",
        "    'ord_no': [None, None, 70002.0, 70004.0, None, 70005.0, None, 70010.0, 70003.0, 70012.0, None, 70013.0],\n",
        "    'purch_amt': [None, 270.65, 65.26, 110.50, 948.50, 2400.60, 5760.00, 1983.43, 2480.40, 250.45, 75.29, 3045.60],\n",
        "    'ord_date': [None, '2012-09-10', None, '2012-08-17', '2012-09-10', '2012-07-27', '2012-09-10', '2012-10-10', '2012-10-10', '2012-06-27', '2012-08-17', '2012-04-25'],\n",
        "    'customer_id': [None, 3001.0, 3001.0, 3003.0, 3002.0, 3001.0, 3001.0, 3004.0, 3003.0, 3002.0, 3001.0, 3001.0]\n",
        "}\n",
        "\n",
        "# Creating a Pandas DataFrame\n",
        "df = pd.DataFrame(data)\n",
        "\n",
        "# Display the original DataFrame\n",
        "print(\"Original DataFrame:\")\n",
        "print(df)\n",
        "\n",
        "# Dropping rows where all values are missing\n",
        "cleaned_df = df.dropna(how='all')\n",
        "\n",
        "# Displaying the DataFrame after dropping fully missing rows\n",
        "print(\"\\nDataFrame after dropping rows where all elements are missing:\")\n",
        "print(cleaned_df)\n"
      ],
      "metadata": {
        "id": "H0V8T2jkfeUn"
      },
      "execution_count": null,
      "outputs": []
    },
    {
      "cell_type": "markdown",
      "source": [
        "This Pandas program removes rows where all elements are missing using `dropna(how='all')`. It ensures that only meaningful data remains in the DataFrame, improving data quality for analysis."
      ],
      "metadata": {
        "id": "mpuXm8gHfoyy"
      }
    },
    {
      "cell_type": "markdown",
      "source": [
        "8. Write a Pandas program to keep the rows with at least 2 NaN values in a given DataFrame."
      ],
      "metadata": {
        "id": "cKE4G9y-fv7q"
      }
    },
    {
      "cell_type": "code",
      "source": [
        "# Importing required libraries\n",
        "import pandas as pd\n",
        "\n",
        "# Creating the test DataFrame with missing values\n",
        "data = {\n",
        "    'ord_no': [None, None, 70002.0, None, None, 70005.0, None, 70010.0, 70003.0, 70012.0, None, None],\n",
        "    'purch_amt': [None, 270.65, 65.26, None, 948.50, 2400.60, 5760.00, 1983.43, 2480.40, 250.45, 75.29, None],\n",
        "    'ord_date': [None, '2012-09-10', None, None, '2012-09-10', '2012-07-27', '2012-09-10', '2012-10-10', '2012-10-10', '2012-06-27', '2012-08-17', None],\n",
        "    'customer_id': [None, 3001.0, 3001.0, None, 3002.0, 3001.0, 3001.0, 3004.0, 3003.0, 3002.0, 3001.0, None]\n",
        "}\n",
        "\n",
        "# Creating a Pandas DataFrame\n",
        "df = pd.DataFrame(data)\n",
        "\n",
        "# Display the original DataFrame\n",
        "print(\"Original DataFrame:\")\n",
        "print(df)\n",
        "\n",
        "# Keeping only the rows that have at least 2 NaN values\n",
        "filtered_df = df[df.isnull().sum(axis=1) >= 2]\n",
        "\n",
        "# Displaying the DataFrame after filtering\n",
        "print(\"\\nDataFrame with rows having at least 2 NaN values:\")\n",
        "print(filtered_df)\n"
      ],
      "metadata": {
        "id": "IWY8w_-IfzYQ"
      },
      "execution_count": null,
      "outputs": []
    },
    {
      "cell_type": "markdown",
      "source": [
        "This Pandas program filters the DataFrame to keep only the rows that contain at least two missing (NaN) values using `df.isnull().sum(axis=1) >= 2`. It helps focus on incomplete data for further analysis or cleaning."
      ],
      "metadata": {
        "id": "6MKEh8rof-Ab"
      }
    },
    {
      "cell_type": "markdown",
      "source": [
        "9. Write a Pandas program to drop those rows from a given DataFrame in which specific columns have missing values"
      ],
      "metadata": {
        "id": "seqrmFFbgFNo"
      }
    },
    {
      "cell_type": "code",
      "source": [
        "# Importing required libraries\n",
        "import pandas as pd\n",
        "\n",
        "# Creating the test DataFrame with missing values\n",
        "data = {\n",
        "    'ord_no': [None, None, 70002.0, None, None, 70005.0, None, 70010.0, 70003.0, 70012.0, None, None],\n",
        "    'purch_amt': [None, 270.65, 65.26, None, 948.50, 2400.60, 5760.00, 1983.43, 2480.40, 250.45, 75.29, None],\n",
        "    'ord_date': [None, '2012-09-10', None, None, '2012-09-10', '2012-07-27', '2012-09-10', '2012-10-10', '2012-10-10', '2012-06-27', '2012-08-17', None],\n",
        "    'customer_id': [None, 3001.0, 3001.0, None, 3002.0, 3001.0, 3001.0, 3004.0, 3003.0, 3002.0, 3001.0, None]\n",
        "}\n",
        "\n",
        "# Creating a Pandas DataFrame\n",
        "df = pd.DataFrame(data)\n",
        "\n",
        "# Display the original DataFrame\n",
        "print(\"Original DataFrame:\")\n",
        "print(df)\n",
        "\n",
        "# Dropping rows where specific columns ('ord_no' and 'ord_date') have missing values\n",
        "df_cleaned = df.dropna(subset=['ord_no', 'ord_date'])\n",
        "\n",
        "# Displaying the DataFrame after dropping rows with missing values in specified columns\n",
        "print(\"\\nDataFrame after dropping rows where 'ord_no' or 'ord_date' have missing values:\")\n",
        "print(df_cleaned)\n"
      ],
      "metadata": {
        "id": "LcRHvsragJsN"
      },
      "execution_count": null,
      "outputs": []
    },
    {
      "cell_type": "markdown",
      "source": [
        "This Pandas program removes rows where specific columns (e.g., 'ord_no' and 'ord_date') contain missing values using `dropna(subset=[columns])`. This ensures that only relevant, complete data is retained for further processing."
      ],
      "metadata": {
        "id": "T6jUzdmXgaRp"
      }
    },
    {
      "cell_type": "markdown",
      "source": [
        "10. Write a Pandas program to keep the valid entries of a given DataFrame."
      ],
      "metadata": {
        "id": "Co-3Jthegbra"
      }
    },
    {
      "cell_type": "code",
      "source": [
        "### Pandas Data Cleaning and Handling Missing Data\n",
        "\n",
        "#### 1. Detect Missing Values in a DataFrame\n",
        "This program checks for missing values in a given DataFrame and returns a boolean mask indicating the presence of missing data.\n",
        "\n",
        "#### 2. Identify Columns with Missing Values\n",
        "This program identifies the columns that contain at least one missing value.\n",
        "\n",
        "#### 3. Count Missing Values in Each Column\n",
        "The program counts and displays the number of missing values in each column of the DataFrame.\n",
        "\n",
        "#### 4. Replace Missing Values\n",
        "This program replaces missing or invalid values (such as '?', '--', or NaN) with meaningful values like the column mean or a placeholder.\n",
        "\n",
        "#### 5. Drop Rows with Missing Values\n",
        "The program removes any row that contains at least one missing value using `dropna()`.\n",
        "\n",
        "#### 6. Drop Columns with Missing Values\n",
        "This program removes columns that contain at least one missing value using `dropna(axis=1)`.\n",
        "\n",
        "#### 7. Drop Rows Where All Elements Are Missing\n",
        "The program removes rows where all values are NaN, ensuring partial data is retained for further analysis.\n",
        "\n",
        "#### 8. Keep Rows with At Least 2 NaN Values\n",
        "This program retains rows that contain at least two missing values using `dropna(thresh=2)`, helping in cases where partial data is still useful.\n",
        "\n",
        "#### 9. Drop Rows with Missing Values in Specific Columns\n",
        "The program removes rows where specific columns (e.g., 'ord_no' and 'ord_date') contain missing values using `dropna(subset=[columns])`. This ensures that only relevant, complete data is retained for further processing.\n",
        "\n",
        "#### 10. Keep Only Valid Entries\n",
        "This program filters out rows that contain any missing values, ensuring that the remaining data is fully complete and ready for analysis.\n"
      ],
      "metadata": {
        "id": "DH4RaEG2gfK-"
      },
      "execution_count": null,
      "outputs": []
    },
    {
      "cell_type": "markdown",
      "source": [
        "This Pandas program filters out only the valid (non-missing) entries from the DataFrame by dropping all rows that contain NaN values in every column. It ensures that only meaningful data remains for analysis."
      ],
      "metadata": {
        "id": "UjoHj-4zg77v"
      }
    },
    {
      "cell_type": "markdown",
      "source": [
        "11. Write a Pandas program to calculate the total number of missing values in a DataFrame."
      ],
      "metadata": {
        "id": "gjMnrJJIhI3n"
      }
    },
    {
      "cell_type": "code",
      "source": [
        "import pandas as pd\n",
        "\n",
        "# Creating the DataFrame\n",
        "data = {\n",
        "    \"ord_no\": [None, None, 70002.0, None, None, 70005.0, None, 70010.0, 70003.0, 70012.0, None, None],\n",
        "    \"purch_amt\": [None, 270.65, 65.26, None, 948.50, 2400.60, 5760.00, 1983.43, 2480.40, 250.45, 75.29, None],\n",
        "    \"ord_date\": [None, \"2012-09-10\", None, None, \"2012-09-10\", \"2012-07-27\", \"2012-09-10\", \"2012-10-10\", \"2012-10-10\", \"2012-06-27\", \"2012-08-17\", None],\n",
        "    \"customer_id\": [None, 3001.0, 3001.0, None, 3002.0, 3001.0, 3001.0, 3004.0, 3003.0, 3002.0, 3001.0, None]\n",
        "}\n",
        "\n",
        "df = pd.DataFrame(data)\n",
        "\n",
        "# Calculating total number of missing values\n",
        "total_missing = df.isna().sum().sum()\n",
        "\n",
        "# Displaying the result\n",
        "print(\"Total number of missing values in the DataFrame:\", total_missing)\n"
      ],
      "metadata": {
        "id": "wnEv6SlkhMSz"
      },
      "execution_count": null,
      "outputs": []
    },
    {
      "cell_type": "markdown",
      "source": [
        "df.isna() generates a boolean DataFrame where True represents missing (NaN) values.\n",
        ".sum() first sums up the missing values column-wise.\n",
        "Another .sum() sums up all the missing values across the entire DataFrame.\n",
        "The result gives the total count of missing values in the DataFrame.\n",
        "This helps in understanding the completeness of data before performing any data-cleaning operations."
      ],
      "metadata": {
        "id": "z-DolQiWheMT"
      }
    },
    {
      "cell_type": "markdown",
      "source": [
        "12. Write a Pandas program to replace NaNs with a single constant value in specified columns in a DataFrame."
      ],
      "metadata": {
        "id": "1VbO-FXFhj94"
      }
    },
    {
      "cell_type": "code",
      "source": [
        "import pandas as pd\n",
        "\n",
        "# Creating the DataFrame\n",
        "data = {\n",
        "    \"ord_no\": [None, None, 70002.0, None, None, 70005.0, None, 70010.0, 70003.0, 70012.0, None, None],\n",
        "    \"purch_amt\": [None, 270.65, 65.26, None, 948.50, 2400.60, 5760.00, 1983.43, 2480.40, 250.45, 75.29, None],\n",
        "    \"ord_date\": [None, \"2012-09-10\", None, None, \"2012-09-10\", \"2012-07-27\", \"2012-09-10\", \"2012-10-10\", \"2012-10-10\", \"2012-06-27\", \"2012-08-17\", None],\n",
        "    \"customer_id\": [None, 3001.0, 3001.0, None, 3002.0, 3001.0, 3001.0, 3004.0, 3003.0, 3002.0, 3001.0, None]\n",
        "}\n",
        "\n",
        "df = pd.DataFrame(data)\n",
        "\n",
        "# Replacing NaNs in specific columns with a constant value\n",
        "df[['ord_no', 'ord_date']] = df[['ord_no', 'ord_date']].fillna(\"Not Available\")\n",
        "\n",
        "# Displaying the updated DataFrame\n",
        "print(df)\n"
      ],
      "metadata": {
        "id": "6oAxtztjhqYK"
      },
      "execution_count": null,
      "outputs": []
    },
    {
      "cell_type": "markdown",
      "source": [
        "fillna(\"Not Available\") is used to replace missing values in the specified columns (ord_no and ord_date) with \"Not Available\".\n",
        "This approach ensures that missing values are handled in a way that retains information while making the data more interpretable."
      ],
      "metadata": {
        "id": "K2utVc-FhyZe"
      }
    },
    {
      "cell_type": "markdown",
      "source": [
        "13. Write a Pandas program to replace NaNs with the value from the previous row or the next row in a given DataFrame."
      ],
      "metadata": {
        "id": "4p8ibYRch87E"
      }
    },
    {
      "cell_type": "code",
      "source": [
        "import pandas as pd\n",
        "\n",
        "# Creating the DataFrame\n",
        "data = {\n",
        "    \"ord_no\": [70001.0, None, 70002.0, 70004.0, None, 70005.0, None, 70010.0, 70003.0, 70012.0, None, 70013.0],\n",
        "    \"purch_amt\": [150.50, None, 65.26, 110.50, 948.50, None, 5760.00, 1983.43, None, 250.45, 75.29, 3045.60],\n",
        "    \"sale_amt\": [10.50, 20.65, None, 11.50, 98.50, None, 57.00, 19.43, None, 25.45, 75.29, 35.60],\n",
        "    \"ord_date\": [\"2012-10-05\", \"2012-09-10\", None, \"2012-08-17\", \"2012-09-10\", \"2012-07-27\",\n",
        "                 \"2012-09-10\", \"2012-10-10\", \"2012-10-10\", \"2012-06-27\", \"2012-08-17\", \"2012-04-25\"],\n",
        "    \"customer_id\": [3002, 3001, 3001, 3003, 3002, 3001, 3001, 3004, 3003, 3002, 3001, 3001],\n",
        "    \"salesman_id\": [5002.0, 5003.0, 5001.0, None, 5002.0, 5001.0, 5001.0, None, 5003.0, 5002.0, 5003.0, None]\n",
        "}\n",
        "\n",
        "df = pd.DataFrame(data)\n",
        "\n",
        "# Filling NaNs with the previous row value, then filling remaining NaNs with the next row value\n",
        "df.fillna(method='ffill', inplace=True)  # Forward fill\n",
        "df.fillna(method='bfill', inplace=True)  # Backward fill\n",
        "\n",
        "# Displaying the updated DataFrame\n",
        "print(df)\n"
      ],
      "metadata": {
        "colab": {
          "base_uri": "https://localhost:8080/"
        },
        "id": "n0wHCHswiBZP",
        "outputId": "73c7a571-0ac9-48bf-c0f6-88ca52d9e21d"
      },
      "execution_count": null,
      "outputs": [
        {
          "output_type": "stream",
          "name": "stdout",
          "text": [
            "     ord_no  purch_amt  sale_amt    ord_date  customer_id  salesman_id\n",
            "0   70001.0     150.50     10.50  2012-10-05         3002       5002.0\n",
            "1   70001.0     150.50     20.65  2012-09-10         3001       5003.0\n",
            "2   70002.0      65.26     20.65  2012-09-10         3001       5001.0\n",
            "3   70004.0     110.50     11.50  2012-08-17         3003       5001.0\n",
            "4   70004.0     948.50     98.50  2012-09-10         3002       5002.0\n",
            "5   70005.0     948.50     98.50  2012-07-27         3001       5001.0\n",
            "6   70005.0    5760.00     57.00  2012-09-10         3001       5001.0\n",
            "7   70010.0    1983.43     19.43  2012-10-10         3004       5001.0\n",
            "8   70003.0    1983.43     19.43  2012-10-10         3003       5003.0\n",
            "9   70012.0     250.45     25.45  2012-06-27         3002       5002.0\n",
            "10  70012.0      75.29     75.29  2012-08-17         3001       5003.0\n",
            "11  70013.0    3045.60     35.60  2012-04-25         3001       5003.0\n"
          ]
        },
        {
          "output_type": "stream",
          "name": "stderr",
          "text": [
            "<ipython-input-1-e933fc2fcab6>:17: FutureWarning: DataFrame.fillna with 'method' is deprecated and will raise in a future version. Use obj.ffill() or obj.bfill() instead.\n",
            "  df.fillna(method='ffill', inplace=True)  # Forward fill\n",
            "<ipython-input-1-e933fc2fcab6>:18: FutureWarning: DataFrame.fillna with 'method' is deprecated and will raise in a future version. Use obj.ffill() or obj.bfill() instead.\n",
            "  df.fillna(method='bfill', inplace=True)  # Backward fill\n"
          ]
        }
      ]
    },
    {
      "cell_type": "markdown",
      "source": [
        "fillna(method='ffill'): Fills NaN values with the previous row's value.\n",
        "fillna(method='bfill'): Fills any remaining NaNs with the next row's value.\n",
        "This ensures that missing values are replaced efficiently using nearby available data."
      ],
      "metadata": {
        "id": "kBX00caniL8P"
      }
    },
    {
      "cell_type": "markdown",
      "source": [
        "14. Write a Pandas program to replace NaNs with median or mean of the specified columns in a given DataFrame."
      ],
      "metadata": {
        "id": "hDO8zZwGiQHg"
      }
    },
    {
      "cell_type": "code",
      "source": [
        "import pandas as pd\n",
        "\n",
        "# Creating the DataFrame\n",
        "data = {\n",
        "    \"ord_no\": [70001.0, None, 70002.0, 70004.0, None, 70005.0, None, 70010.0, 70003.0, 70012.0, None, 70013.0],\n",
        "    \"purch_amt\": [150.50, None, 65.26, 110.50, 948.50, None, 5760.00, 1983.43, None, 250.45, 75.29, 3045.60],\n",
        "    \"sale_amt\": [10.50, 20.65, None, 11.50, 98.50, None, 57.00, 19.43, None, 25.45, 75.29, 35.60],\n",
        "    \"ord_date\": [\"2012-10-05\", \"2012-09-10\", None, \"2012-08-17\", \"2012-09-10\", \"2012-07-27\",\n",
        "                 \"2012-09-10\", \"2012-10-10\", \"2012-10-10\", \"2012-06-27\", \"2012-08-17\", \"2012-04-25\"],\n",
        "    \"customer_id\": [3002, 3001, 3001, 3003, 3002, 3001, 3001, 3004, 3003, 3002, 3001, 3001],\n",
        "    \"salesman_id\": [5002.0, 5003.0, 5001.0, None, 5002.0, 5001.0, 5001.0, None, 5003.0, 5002.0, 5003.0, None]\n",
        "}\n",
        "\n",
        "df = pd.DataFrame(data)\n",
        "\n",
        "# Replacing NaNs with median for 'purch_amt' and 'sale_amt' columns\n",
        "df[\"purch_amt\"].fillna(df[\"purch_amt\"].median(), inplace=True)\n",
        "df[\"sale_amt\"].fillna(df[\"sale_amt\"].median(), inplace=True)\n",
        "\n",
        "# Replacing NaNs with mean for 'salesman_id' column\n",
        "df[\"salesman_id\"].fillna(df[\"salesman_id\"].mean(), inplace=True)\n",
        "\n",
        "# Displaying the updated DataFrame\n",
        "print(df)\n"
      ],
      "metadata": {
        "id": "wErbKKNAiTEP"
      },
      "execution_count": null,
      "outputs": []
    },
    {
      "cell_type": "markdown",
      "source": [
        ".fillna(df[\"column\"].median()) replaces NaNs with the median value of the column.\n",
        ".fillna(df[\"column\"].mean()) replaces NaNs with the mean value of the column.\n",
        "This approach ensures that missing values are replaced with meaningful statistical measures."
      ],
      "metadata": {
        "id": "GmluxJq_ibh4"
      }
    },
    {
      "cell_type": "markdown",
      "source": [
        "15. Write a Pandas program to interpolate the missing values using the Linear Interpolation method in a given DataFrame.\n",
        "From Wikipedia, in mathematics, linear interpolation is a method of curve fitting using linear polynomials to construct new data points within the range of a discrete set of known data points."
      ],
      "metadata": {
        "id": "GcD2C9YYie2i"
      }
    },
    {
      "cell_type": "code",
      "source": [
        "import pandas as pd\n",
        "\n",
        "# Creating the DataFrame\n",
        "data = {\n",
        "    \"ord_no\": [70001.0, None, 70002.0, 70004.0, None, 70005.0, None, 70010.0, 70003.0, 70012.0, None, 70013.0],\n",
        "    \"purch_amt\": [150.50, None, 65.26, 110.50, 948.50, None, 5760.00, 1983.43, None, 250.45, 75.29, 3045.60],\n",
        "    \"sale_amt\": [10.50, 20.65, None, 11.50, 98.50, None, 57.00, 19.43, None, 25.45, 75.29, 35.60],\n",
        "    \"ord_date\": [\"2012-10-05\", \"2012-09-10\", None, \"2012-08-17\", \"2012-09-10\", \"2012-07-27\",\n",
        "                 \"2012-09-10\", \"2012-10-10\", \"2012-10-10\", \"2012-06-27\", \"2012-08-17\", \"2012-04-25\"],\n",
        "    \"customer_id\": [3002, 3001, 3001, 3003, 3002, 3001, 3001, 3004, 3003, 3002, 3001, 3001],\n",
        "    \"salesman_id\": [5002.0, 5003.0, 5001.0, None, 5002.0, 5001.0, 5001.0, None, 5003.0, 5002.0, 5003.0, None]\n",
        "}\n",
        "\n",
        "df = pd.DataFrame(data)\n",
        "\n",
        "# Interpolating missing values using the linear method\n",
        "df.interpolate(method='linear', inplace=True)\n",
        "\n",
        "# Displaying the updated DataFrame\n",
        "print(df)\n"
      ],
      "metadata": {
        "id": "lmLfrBzBimut"
      },
      "execution_count": null,
      "outputs": []
    },
    {
      "cell_type": "markdown",
      "source": [
        ".interpolate(method='linear') fills missing values by performing linear interpolation.\n",
        "It estimates missing values by assuming a linear relationship between existing values in the column.\n",
        "inplace=True updates the DataFrame directly.\n",
        "This method provides a smooth way to fill missing numerical data while preserving trends."
      ],
      "metadata": {
        "id": "wsc5iASpivYT"
      }
    },
    {
      "cell_type": "markdown",
      "source": [
        "\n",
        "16. Write a Pandas program to count the number of missing values of a specified column in a given DataFrame."
      ],
      "metadata": {
        "id": "TszUSwDIizMU"
      }
    },
    {
      "cell_type": "code",
      "source": [
        "import pandas as pd\n",
        "\n",
        "# Creating the DataFrame\n",
        "data = {\n",
        "    \"ord_no\": [70001.0, None, 70002.0, 70004.0, None, 70005.0, None, 70010.0, 70003.0, 70012.0, None, 70013.0],\n",
        "    \"purch_amt\": [150.50, None, 65.26, 110.50, 948.50, None, 5760.00, 1983.43, None, 250.45, 75.29, 3045.60],\n",
        "    \"sale_amt\": [10.50, 20.65, None, 11.50, 98.50, None, 57.00, 19.43, None, 25.45, 75.29, 35.60],\n",
        "    \"ord_date\": [\"2012-10-05\", \"2012-09-10\", None, \"2012-08-17\", \"2012-09-10\", \"2012-07-27\",\n",
        "                 \"2012-09-10\", \"2012-10-10\", \"2012-10-10\", \"2012-06-27\", \"2012-08-17\", \"2012-04-25\"],\n",
        "    \"customer_id\": [3002, 3001, 3001, 3003, 3002, 3001, 3001, 3004, 3003, 3002, 3001, 3001],\n",
        "    \"salesman_id\": [5002.0, 5003.0, 5001.0, None, 5002.0, 5001.0, 5001.0, None, 5003.0, 5002.0, 5003.0, None]\n",
        "}\n",
        "\n",
        "df = pd.DataFrame(data)\n",
        "\n",
        "# Specify the column to count missing values\n",
        "column_name = \"ord_no\"  # Change this to count missing values in a different column\n",
        "\n",
        "# Count the number of missing values in the specified column\n",
        "missing_count = df[column_name].isna().sum()\n",
        "\n",
        "# Display the result\n",
        "print(f\"Number of missing values in column '{column_name}':\", missing_count)\n"
      ],
      "metadata": {
        "id": "sadlaaHki_1d"
      },
      "execution_count": null,
      "outputs": []
    },
    {
      "cell_type": "markdown",
      "source": [
        "df[column_name].isna() returns a boolean Series where True indicates missing values.\n",
        ".sum() counts the number of True values, giving the total missing values in the specified column.\n",
        "The column name can be changed to check for missing values in different columns.\n",
        "This approach helps in quickly identifying missing data in a DataFrame"
      ],
      "metadata": {
        "id": "CKVjgNrMjI0o"
      }
    },
    {
      "cell_type": "markdown",
      "source": [
        "17. Write a Pandas program to count the missing values in a given DataFrame."
      ],
      "metadata": {
        "id": "DuC4T4lOjMmP"
      }
    },
    {
      "cell_type": "code",
      "source": [
        "import pandas as pd\n",
        "\n",
        "# Creating the DataFrame\n",
        "data = {\n",
        "    \"ord_no\": [70001.0, None, 70002.0, 70004.0, None, 70005.0, None, 70010.0, 70003.0, 70012.0, None, 70013.0],\n",
        "    \"purch_amt\": [150.50, None, 65.26, 110.50, 948.50, None, 5760.00, 1983.43, None, 250.45, 75.29, 3045.60],\n",
        "    \"sale_amt\": [10.50, 20.65, None, 11.50, 98.50, None, 57.00, 19.43, None, 25.45, 75.29, 35.60],\n",
        "    \"ord_date\": [\"2012-10-05\", \"2012-09-10\", None, \"2012-08-17\", \"2012-09-10\", \"2012-07-27\",\n",
        "                 \"2012-09-10\", \"2012-10-10\", \"2012-10-10\", \"2012-06-27\", \"2012-08-17\", \"2012-04-25\"],\n",
        "    \"customer_id\": [3002, 3001, 3001, 3003, 3002, 3001, 3001, 3004, 3003, 3002, 3001, 3001],\n",
        "    \"salesman_id\": [5002.0, 5003.0, 5001.0, None, 5002.0, 5001.0, 5001.0, None, 5003.0, 5002.0, 5003.0, None]\n",
        "}\n",
        "\n",
        "df = pd.DataFrame(data)\n",
        "\n",
        "# Count missing values for each column\n",
        "missing_values = df.isna().sum()\n",
        "\n",
        "# Display the result\n",
        "print(\"Number of missing values in each column:\")\n",
        "print(missing_values)\n"
      ],
      "metadata": {
        "id": "5CbInejPjQ1K"
      },
      "execution_count": null,
      "outputs": []
    },
    {
      "cell_type": "markdown",
      "source": [
        "df.isna() creates a boolean DataFrame where True represents missing values.\n",
        ".sum() calculates the total number of missing values per column.\n",
        "The result shows the count of missing values in each column, helping in data cleaning and preprocessing.\n",
        "This method is useful for quickly identifying missing data in a dataset."
      ],
      "metadata": {
        "id": "3MlDBHuPluwP"
      }
    },
    {
      "cell_type": "markdown",
      "source": [
        "18. Write a Pandas program to find the Indexes of missing values in a given DataFrame."
      ],
      "metadata": {
        "id": "w1kabmx2lyDi"
      }
    },
    {
      "cell_type": "code",
      "source": [
        "import pandas as pd\n",
        "import numpy as np\n",
        "\n",
        "# Creating the DataFrame\n",
        "data = {\n",
        "    \"ord_no\": [70001.0, np.nan, 70002.0, 70004.0, np.nan, 70005.0, np.nan, 70010.0, 70003.0, 70012.0, np.nan, 70013.0],\n",
        "    \"purch_amt\": [150.50, np.nan, 65.26, 110.50, 948.50, np.nan, 5760.00, 1983.43, np.nan, 250.45, 75.29, 3045.60],\n",
        "    \"sale_amt\": [10.50, 20.65, np.nan, 11.50, 98.50, np.nan, 57.00, 19.43, np.nan, 25.45, 75.29, 35.60],\n",
        "    \"ord_date\": [\"2012-10-05\", \"2012-09-10\", np.nan, \"2012-08-17\", \"2012-09-10\", \"2012-07-27\",\n",
        "                 \"2012-09-10\", \"2012-10-10\", \"2012-10-10\", \"2012-06-27\", \"2012-08-17\", \"2012-04-25\"],\n",
        "    \"customer_id\": [3002, 3001, 3001, 3003, 3002, 3001, 3001, 3004, 3003, 3002, 3001, 3001],\n",
        "    \"salesman_id\": [5002.0, 5003.0, 5001.0, np.nan, 5002.0, 5001.0, 5001.0, np.nan, 5003.0, 5002.0, 5003.0, np.nan]\n",
        "}\n",
        "\n",
        "df = pd.DataFrame(data)\n",
        "\n",
        "# Finding indexes of missing values\n",
        "missing_indexes = df.isna().stack()[df.isna().stack()].index.tolist()\n",
        "\n",
        "# Display the result\n",
        "print(\"Indexes of missing values:\")\n",
        "for index in missing_indexes:\n",
        "    print(f\"Row: {index[0]}, Column: {index[1]}\")\n"
      ],
      "metadata": {
        "id": "JOjsKYETl5Ju"
      },
      "execution_count": null,
      "outputs": []
    },
    {
      "cell_type": "markdown",
      "source": [
        "df.isna() creates a boolean DataFrame where True represents missing values.\n",
        ".stack() converts the DataFrame into a stacked Series to make it easier to filter missing values.\n",
        "[df.isna().stack()] filters only True values (missing values).\n",
        ".index.tolist() retrieves the list of indexes (row, column) of missing values.\n",
        "Finally, the results are printed in a readable format.\n",
        "This program helps in identifying exactly where the missing values are in a dataset."
      ],
      "metadata": {
        "id": "seTh4RgzmCfz"
      }
    },
    {
      "cell_type": "markdown",
      "source": [
        "19. Write a Pandas program to replace the missing values with the most frequent values present in each column of a given DataFrame."
      ],
      "metadata": {
        "id": "we_mvHNjmGwX"
      }
    },
    {
      "cell_type": "code",
      "source": [
        "import pandas as pd\n",
        "import numpy as np\n",
        "\n",
        "# Creating the DataFrame\n",
        "data = {\n",
        "    \"ord_no\": [70001.0, np.nan, 70002.0, 70004.0, np.nan, 70005.0, np.nan, 70010.0, 70003.0, 70012.0, np.nan, 70013.0],\n",
        "    \"purch_amt\": [150.50, np.nan, 65.26, 110.50, 948.50, np.nan, 5760.00, 1983.43, np.nan, 250.45, 75.29, 3045.60],\n",
        "    \"sale_amt\": [10.50, 20.65, np.nan, 11.50, 98.50, np.nan, 57.00, 19.43, np.nan, 25.45, 75.29, 35.60],\n",
        "    \"ord_date\": [\"2012-10-05\", \"2012-09-10\", np.nan, \"2012-08-17\", \"2012-09-10\", \"2012-07-27\",\n",
        "                 \"2012-09-10\", \"2012-10-10\", \"2012-10-10\", \"2012-06-27\", \"2012-08-17\", \"2012-04-25\"],\n",
        "    \"customer_id\": [3002, 3001, 3001, 3003, 3002, 3001, 3001, 3004, 3003, 3002, 3001, 3001],\n",
        "    \"salesman_id\": [5002.0, 5003.0, 5001.0, np.nan, 5002.0, 5001.0, 5001.0, np.nan, 5003.0, 5002.0, 5003.0, np.nan]\n",
        "}\n",
        "\n",
        "df = pd.DataFrame(data)\n",
        "\n",
        "# Replacing missing values with the most frequent value in each column\n",
        "df_filled = df.apply(lambda x: x.fillna(x.mode()[0]) if x.mode().size > 0 else x, axis=0)\n",
        "\n",
        "# Displaying the result\n",
        "print(df_filled)\n"
      ],
      "metadata": {
        "id": "GyHBnGWymQ8Z"
      },
      "execution_count": null,
      "outputs": []
    },
    {
      "cell_type": "markdown",
      "source": [
        "x.mode()[0] retrieves the most frequent value (mode) of each column.\n",
        "x.fillna(x.mode()[0]) fills missing values in each column with the most frequent value.\n",
        ".apply(..., axis=0) applies the operation column-wise.\n",
        "This ensures that missing values in each column are replaced with the most frequently occurring value, making the dataset more complete."
      ],
      "metadata": {
        "id": "OusDGYmEmR7Z"
      }
    },
    {
      "cell_type": "markdown",
      "source": [
        "20. Write a Pandas program to create a hitmap for more information about the distribution of missing values in a given DataFrame."
      ],
      "metadata": {
        "id": "Pa9_Th8JmVLn"
      }
    },
    {
      "cell_type": "code",
      "source": [
        "import pandas as pd\n",
        "import numpy as np\n",
        "import seaborn as sns\n",
        "import matplotlib.pyplot as plt\n",
        "\n",
        "# Creating the DataFrame\n",
        "data = {\n",
        "    \"ord_no\": [70001.0, np.nan, 70002.0, 70004.0, np.nan, 70005.0, np.nan, 70010.0, 70003.0, 70012.0, np.nan, 70013.0],\n",
        "    \"purch_amt\": [150.50, np.nan, 65.26, 110.50, 948.50, np.nan, 5760.00, 1983.43, np.nan, 250.45, 75.29, 3045.60],\n",
        "    \"sale_amt\": [10.50, 20.65, np.nan, 11.50, 98.50, np.nan, 57.00, 19.43, np.nan, 25.45, 75.29, 35.60],\n",
        "    \"ord_date\": [\"2012-10-05\", \"2012-09-10\", np.nan, \"2012-08-17\", \"2012-09-10\", \"2012-07-27\",\n",
        "                 \"2012-09-10\", \"2012-10-10\", \"2012-10-10\", \"2012-06-27\", \"2012-08-17\", \"2012-04-25\"],\n",
        "    \"customer_id\": [3002, 3001, 3001, 3003, 3002, 3001, 3001, 3004, 3003, 3002, 3001, 3001],\n",
        "    \"salesman_id\": [5002.0, 5003.0, 5001.0, np.nan, 5002.0, 5001.0, 5001.0, np.nan, 5003.0, 5002.0, 5003.0, np.nan]\n",
        "}\n",
        "\n",
        "df = pd.DataFrame(data)\n",
        "\n",
        "# Set the figure size\n",
        "plt.figure(figsize=(10, 6))\n",
        "\n",
        "# Create the heatmap\n",
        "sns.heatmap(df.isnull(), cmap=\"viridis\", cbar=False, yticklabels=False)\n",
        "\n",
        "# Add title\n",
        "plt.title(\"Missing Values Heatmap\")\n",
        "\n",
        "# Show the plot\n",
        "plt.show()\n"
      ],
      "metadata": {
        "id": "pRyjseFCmXzp"
      },
      "execution_count": null,
      "outputs": []
    },
    {
      "cell_type": "markdown",
      "source": [
        "df.isnull() creates a boolean mask indicating missing values.\n",
        "sns.heatmap(...) visualizes missing values:\n",
        "cmap=\"viridis\" sets the color scheme.\n",
        "cbar=False removes the color bar.\n",
        "yticklabels=False hides row labels for clarity.\n",
        "plt.title() gives a title to the heatmap.\n",
        "plt.show() displays the heatmap.\n",
        "This heatmap clearly shows where missing values are located, helping in data analysis and preprocessing."
      ],
      "metadata": {
        "id": "PUnvZAFKmgeW"
      }
    }
  ]
}